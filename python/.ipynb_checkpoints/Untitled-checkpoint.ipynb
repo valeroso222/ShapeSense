{
 "cells": [
  {
   "cell_type": "code",
   "execution_count": 1,
   "metadata": {
    "collapsed": true
   },
   "outputs": [],
   "source": [
    "import numpy as np"
   ]
  },
  {
   "cell_type": "code",
   "execution_count": 2,
   "metadata": {},
   "outputs": [
    {
     "ename": "SyntaxError",
     "evalue": "invalid syntax (<ipython-input-2-0ddb919e09c6>, line 1)",
     "output_type": "error",
     "traceback": [
      "\u001b[1;36m  File \u001b[1;32m\"<ipython-input-2-0ddb919e09c6>\"\u001b[1;36m, line \u001b[1;32m1\u001b[0m\n\u001b[1;33m    input = [ 360.  612.  864.  360.  612.  360.  444.  528.]\u001b[0m\n\u001b[1;37m                       ^\u001b[0m\n\u001b[1;31mSyntaxError\u001b[0m\u001b[1;31m:\u001b[0m invalid syntax\n"
     ]
    }
   ],
   "source": [
    "input = np.ndarray([ 360.  612.  864.  360.  612.  360.  444.  528.])\n",
    "output_ave = [[84, 288, 484, 247, 279, 229, 411, 313], [126, 354, 532, 321, 490, 468, 322, 403], [177, 175, 198, 142, 163, 187, 226, 216], [141, 169, 204, 109, 225, 171, 166, 151], [138, 166, 162, 121, 85, 130, 142, 88], [195, 277, 330, 259, 339, 318, 340, 369], [313, 298, 426, 219, 357, 250, 271, 366], [208, 222, 252, 231, 223, 192, 162, 252], [217, 279, 642, 232, 219, 265, 400, 157], [126, 204, 327, 120, 307, 243, 294, 340]]"
   ]
  },
  {
   "cell_type": "code",
   "execution_count": null,
   "metadata": {
    "collapsed": true
   },
   "outputs": [],
   "source": []
  }
 ],
 "metadata": {
  "kernelspec": {
   "display_name": "Python 3",
   "language": "python",
   "name": "python3"
  },
  "language_info": {
   "codemirror_mode": {
    "name": "ipython",
    "version": 3
   },
   "file_extension": ".py",
   "mimetype": "text/x-python",
   "name": "python",
   "nbconvert_exporter": "python",
   "pygments_lexer": "ipython3",
   "version": "3.6.3"
  }
 },
 "nbformat": 4,
 "nbformat_minor": 2
}
