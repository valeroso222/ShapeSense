{
 "cells": [
  {
   "cell_type": "code",
   "execution_count": 2,
   "metadata": {
    "collapsed": true
   },
   "outputs": [],
   "source": [
    "import pandas as pd\n",
    "import math\n",
    "import numpy as np\n",
    "import matplotlib.pyplot as plt\n",
    "import csv"
   ]
  },
  {
   "cell_type": "code",
   "execution_count": 16,
   "metadata": {},
   "outputs": [],
   "source": [
    "#csvを読み込む\n",
    "def csv_to_array(file_name):\n",
    "    csv_input = pd.read_csv(\"Data/length/\"+file_name+\".csv\")\n",
    "    data = np.round(np.array(csv_input.values)*50)*2\n",
    "    for i in range(data.shape[0]):\n",
    "        for j in range(data.shape[1]):\n",
    "            if math.isnan(data[i][j]):\n",
    "                data[i][j] = 0\n",
    "    return (data)\n",
    "\n",
    "def make_plot_data(data, data_max_value):\n",
    "    plot_data = np.array([np.zeros((11, int(data_max_value))) for i in range(data.shape[0])])\n",
    "    for i in range(plot_data.shape[0]):\n",
    "        for j in range(data.shape[1]):\n",
    "            for l in range(int((plot_data.shape[2] -data[i][j])/2), int((plot_data.shape[2]+data[i][j])/2)):\n",
    "                plot_data[i][j][l] = 1\n",
    "        plot_data[i] = plot_data[i][::-1]\n",
    "    return plot_data\n",
    "\n",
    "def conv_to_RGB(data):\n",
    "    list = [[]for i in range(data.shape[0])]\n",
    "    for i in range(data.shape[0]):\n",
    "        for j in range(data.shape[1]):\n",
    "            color = 1.0-data[i][j]\n",
    "            list[i].append([color, color, color])\n",
    "    return list\n",
    "        \n",
    "def plot_average():\n",
    "    #csvをcsv配列に\n",
    "    data_max_value = 50.0\n",
    "    data_ans = csv_to_array(\"answer\")\n",
    "    data_0 = csv_to_array(\"kameda\")\n",
    "    data_1 = csv_to_array(\"yamamoto\")\n",
    "    data_2 = csv_to_array(\"yoshino\")\n",
    "    data_3 = csv_to_array(\"kobatake\")\n",
    "    data_4 = csv_to_array(\"ichimura\")\n",
    "    data_5 = csv_to_array(\"morita\")\n",
    "    data_6 = csv_to_array(\"shimoyama\")\n",
    "    data_7 = csv_to_array(\"matsunaga\")\n",
    "    data_8 = csv_to_array(\"michizono\")\n",
    "    data_9 = csv_to_array(\"nakagawa\")\n",
    "    #配列をplot配列に\n",
    "    plot_data_ans = make_plot_data(data_ans, data_max_value)\n",
    "    plot_data_0 = make_plot_data(data_0, data_max_value)\n",
    "    plot_data_1 = make_plot_data(data_1, data_max_value)\n",
    "    plot_data_2 = make_plot_data(data_2, data_max_value)\n",
    "    plot_data_3 = make_plot_data(data_3, data_max_value)\n",
    "    plot_data_4 = make_plot_data(data_4, data_max_value)\n",
    "    plot_data_5 = make_plot_data(data_5, data_max_value)\n",
    "    plot_data_6 = make_plot_data(data_6, data_max_value)\n",
    "    plot_data_7 = make_plot_data(data_7, data_max_value)\n",
    "    plot_data_8 = make_plot_data(data_8, data_max_value)\n",
    "    plot_data_9 = make_plot_data(data_9, data_max_value)\n",
    "    plot_data  = (plot_data_0+plot_data_1+plot_data_2+plot_data_3+plot_data_4+plot_data_5+plot_data_6+plot_data_7+plot_data_8+plot_data_9)/10.0\n",
    "    for i in range(plot_data_ans.shape[0]):\n",
    "        print(i+1)\n",
    "        #plot配列[i]をRGB配列に\n",
    "        plot_data_RGB_ans = np.array(conv_to_RGB(plot_data_ans[i%plot_data_ans.shape[0]]))\n",
    "        plot_data_RGB = np.array(conv_to_RGB(plot_data[i]))\n",
    "        fig = plt.figure()\n",
    "        ax1 = fig.add_subplot(121)\n",
    "        ax2 = fig.add_subplot(122)\n",
    "        ax1.imshow(plot_data_RGB_ans)\n",
    "        ax2.imshow(plot_data_RGB)\n",
    "        ax1.axis(\"off\")\n",
    "        ax2.axis(\"off\")\n",
    "        ax1.set_aspect(4)\n",
    "        ax2.set_aspect(4)\n",
    "        plt.show()"
   ]
  },
  {
   "cell_type": "code",
   "execution_count": 17,
   "metadata": {},
   "outputs": [
    {
     "name": "stdout",
     "output_type": "stream",
     "text": [
      "1\n"
     ]
    },
    {
     "data": {
      "image/png": "[encoded data removed]",
      "text/plain": [
       "<matplotlib.figure.Figure at 0x1f82e0595c0>"
      ]
     },
     "metadata": {},
     "output_type": "display_data"
    },
    {
     "name": "stdout",
     "output_type": "stream",
     "text": [
      "2\n"
     ]
    },
    {
     "data": {
      "image/png": "[encoded data removed]",
      "text/plain": [
       "<matplotlib.figure.Figure at 0x1f82f3f0828>"
      ]
     },
     "metadata": {},
     "output_type": "display_data"
    },
    {
     "name": "stdout",
     "output_type": "stream",
     "text": [
      "3\n"
     ]
    },
    {
     "data": {
      "image/png": "[encoded data removed]",
      "text/plain": [
       "<matplotlib.figure.Figure at 0x1f82f7fe828>"
      ]
     },
     "metadata": {},
     "output_type": "display_data"
    },
    {
     "name": "stdout",
     "output_type": "stream",
     "text": [
      "4\n"
     ]
    },
    {
     "data": {
      "image/png": "[encoded data removed]",
      "text/plain": [
       "<matplotlib.figure.Figure at 0x1f82f8a0908>"
      ]
     },
     "metadata": {},
     "output_type": "display_data"
    },
    {
     "name": "stdout",
     "output_type": "stream",
     "text": [
      "5\n"
     ]
    },
    {
     "data": {
      "image/png": "[encoded data removed]",
      "text/plain": [
       "<matplotlib.figure.Figure at 0x1f82f7ef438>"
      ]
     },
     "metadata": {},
     "output_type": "display_data"
    },
    {
     "name": "stdout",
     "output_type": "stream",
     "text": [
      "6\n"
     ]
    },
    {
     "data": {
      "image/png": "[encoded data removed]",
      "text/plain": [
       "<matplotlib.figure.Figure at 0x1f82df972b0>"
      ]
     },
     "metadata": {},
     "output_type": "display_data"
    },
    {
     "name": "stdout",
     "output_type": "stream",
     "text": [
      "7\n"
     ]
    },
    {
     "data": {
      "image/png": "[encoded data removed]",
      "text/plain": [
       "<matplotlib.figure.Figure at 0x1f82f94e198>"
      ]
     },
     "metadata": {},
     "output_type": "display_data"
    },
    {
     "name": "stdout",
     "output_type": "stream",
     "text": [
      "8\n"
     ]
    },
    {
     "data": {
      "image/png": "[encoded data removed]",
      "text/plain": [
       "<matplotlib.figure.Figure at 0x1f82f9de2e8>"
      ]
     },
     "metadata": {},
     "output_type": "display_data"
    },
    {
     "name": "stdout",
     "output_type": "stream",
     "text": [
      "9\n"
     ]
    },
    {
     "data": {
      "image/png": "[encoded data removed]",
      "text/plain": [
       "<matplotlib.figure.Figure at 0x1f82fa79390>"
      ]
     },
     "metadata": {},
     "output_type": "display_data"
    },
    {
     "name": "stdout",
     "output_type": "stream",
     "text": [
      "10\n"
     ]
    },
    {
     "data": {
      "image/png": "[encoded data removed]",
      "text/plain": [
       "<matplotlib.figure.Figure at 0x1f82fb1bac8>"
      ]
     },
     "metadata": {},
     "output_type": "display_data"
    },
    {
     "name": "stdout",
     "output_type": "stream",
     "text": [
      "11\n"
     ]
    },
    {
     "data": {
      "image/png": "[encoded data removed]",
      "text/plain": [
       "<matplotlib.figure.Figure at 0x1f82fb92550>"
      ]
     },
     "metadata": {},
     "output_type": "display_data"
    },
    {
     "name": "stdout",
     "output_type": "stream",
     "text": [
      "12\n"
     ]
    },
    {
     "data": {
      "image/png": "[encoded data removed]",
      "text/plain": [
       "<matplotlib.figure.Figure at 0x1f82fc7ac18>"
      ]
     },
     "metadata": {},
     "output_type": "display_data"
    },
    {
     "name": "stdout",
     "output_type": "stream",
     "text": [
      "13\n"
     ]
    },
    {
     "data": {
      "image/png": "[encoded data removed]",
      "text/plain": [
       "<matplotlib.figure.Figure at 0x1f82fcf5eb8>"
      ]
     },
     "metadata": {},
     "output_type": "display_data"
    },
    {
     "name": "stdout",
     "output_type": "stream",
     "text": [
      "14\n"
     ]
    },
    {
     "data": {
      "image/png": "[encoded data removed]",
      "text/plain": [
       "<matplotlib.figure.Figure at 0x1f82fdb6f98>"
      ]
     },
     "metadata": {},
     "output_type": "display_data"
    },
    {
     "name": "stdout",
     "output_type": "stream",
     "text": [
      "15\n"
     ]
    },
    {
     "data": {
      "image/png": "[encoded data removed]",
      "text/plain": [
       "<matplotlib.figure.Figure at 0x1f82fe3e278>"
      ]
     },
     "metadata": {},
     "output_type": "display_data"
    },
    {
     "name": "stdout",
     "output_type": "stream",
     "text": [
      "16\n"
     ]
    },
    {
     "data": {
      "image/png": "[encoded data removed]",
      "text/plain": [
       "<matplotlib.figure.Figure at 0x1f82fd03128>"
      ]
     },
     "metadata": {},
     "output_type": "display_data"
    },
    {
     "name": "stdout",
     "output_type": "stream",
     "text": [
      "17\n"
     ]
    },
    {
     "data": {
      "image/png": "[encoded data removed]",
      "text/plain": [
       "<matplotlib.figure.Figure at 0x1f82e0595f8>"
      ]
     },
     "metadata": {},
     "output_type": "display_data"
    },
    {
     "name": "stdout",
     "output_type": "stream",
     "text": [
      "18\n"
     ]
    },
    {
     "data": {
      "image/png": "[encoded data removed]",
      "text/plain": [
       "<matplotlib.figure.Figure at 0x1f82e06db38>"
      ]
     },
     "metadata": {},
     "output_type": "display_data"
    },
    {
     "name": "stdout",
     "output_type": "stream",
     "text": [
      "19\n"
     ]
    },
    {
     "data": {
      "image/png": "[encoded data removed]",
      "text/plain": [
       "<matplotlib.figure.Figure at 0x1f82fcc42e8>"
      ]
     },
     "metadata": {},
     "output_type": "display_data"
    }
   ],
   "source": [
    "plot_average()"
   ]
  },
  {
   "cell_type": "code",
   "execution_count": null,
   "metadata": {
    "collapsed": true
   },
   "outputs": [],
   "source": []
  }
 ],
 "metadata": {
  "kernelspec": {
   "display_name": "Python 3",
   "language": "python",
   "name": "python3"
  },
  "language_info": {
   "codemirror_mode": {
    "name": "ipython",
    "version": 3
   },
   "file_extension": ".py",
   "mimetype": "text/x-python",
   "name": "python",
   "nbconvert_exporter": "python",
   "pygments_lexer": "ipython3",
   "version": "3.6.3"
  }
 },
 "nbformat": 4,
 "nbformat_minor": 2
}
