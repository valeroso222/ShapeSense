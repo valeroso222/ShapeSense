{
 "cells": [
  {
   "cell_type": "code",
   "execution_count": 1,
   "metadata": {},
   "outputs": [
    {
     "name": "stderr",
     "output_type": "stream",
     "text": [
      "C:\\Users\\valer\\Anaconda3\\lib\\site-packages\\statsmodels\\compat\\pandas.py:56: FutureWarning: The pandas.core.datetools module is deprecated and will be removed in a future version. Please use the pandas.tseries module instead.\n",
      "  from pandas.core import datetools\n"
     ]
    }
   ],
   "source": [
    "import numpy as np\n",
    "import matplotlib.pyplot as plt\n",
    "import math\n",
    "import glob as glob\n",
    "import statsmodels.api as sm\n",
    "import pandas as pd\n",
    "from sklearn import linear_model\n",
    "from sklearn import metrics\n",
    "import statsmodels.api as sm\n",
    "from mpl_toolkits.mplot3d import Axes3D\n",
    "import matplotlib.pyplot as plt\n",
    "from matplotlib import cm\n",
    "from matplotlib.colors import LinearSegmentedColormap\n",
    "from scipy.optimize import minimize\n",
    "from sklearn.preprocessing import PolynomialFeatures\n",
    "import itertools\n",
    "from sklearn.metrics import mean_squared_error\n",
    "\n",
    "class ShapeSence:\n",
    "    def loadData(self):\n",
    "        # rawdata/下からcsvデータを読み込む\n",
    "        files =  glob.glob('cleanData/ShapeSenceAverage.csv.csv')\n",
    "        width = pd.DataFrame()\n",
    "        height = pd.DataFrame()\n",
    "        gx = pd.DataFrame()\n",
    "        gy = pd.DataFrame()\n",
    "        for f in files:\n",
    "            df = pd.read_csv(f, header=0)\n",
    "            wdf = df[[\"p1\",\"p2\",\"p3\",\"width\"]]\n",
    "            hdf = df[[\"p1\",\"p2\",\"p3\",\"height\"]]\n",
    "            gydf = df[[\"p1\",\"p2\",\"p3\",\"Gy\"]]\n",
    "            width = pd.concat([width,wdf])\n",
    "            height = pd.concat([height,hdf])\n",
    "            gy = pd.concat([gy,gydf])\n",
    "        self.Y_width = width[\"width\"]\n",
    "        self.Y_height = height[\"height\"]\n",
    "        self.Y_gy = gy[\"Gy\"]\n",
    "        self.X_width = width.drop(\"width\",axis=1)\n",
    "        self.X_height = height.drop(\"height\",axis=1)\n",
    "        self.X_gy = gy.drop(\"Gy\",axis=1)\n",
    "    \n",
    "    # n:回帰の次元\n",
    "    def regression(self,n):\n",
    "        # 回帰に用いる変数設定 https://scikit-learn.org/stable/modules/generated/sklearn.preprocessing.PolynomialFeatures.html\n",
    "        poly = PolynomialFeatures(degree=n) #n次回帰\n",
    "        self.dim = n\n",
    "        width = poly.fit_transform(self.X_width) #widthに対応するw,h,gx,gyのn次交差？を取得\n",
    "        height = poly.fit_transform(self.X_height)\n",
    "        gy = poly.fit_transform(self.X_gy)\n",
    "\n",
    "        # width, heightが定数項を含んでいるので fit_intercept = False でOK\n",
    "        model_width = linear_model.LinearRegression(fit_intercept=False)\n",
    "        model_height = linear_model.LinearRegression(fit_intercept=False)\n",
    "        model_gy = linear_model.LinearRegression(fit_intercept=False)\n",
    "        \n",
    "        model_width.fit(width,self.Y_width)\n",
    "        model_height.fit(height,self.Y_height)\n",
    "        model_gy.fit(gy,self.Y_gy)\n",
    "\n",
    "        self.width_coef = model_width.coef_\n",
    "        self.height_coef = model_height.coef_\n",
    "        self.gy_coef = model_gy.coef_\n",
    "        \n",
    "        self.R2_width = model_width.score(width,self.Y_width)\n",
    "        self.R2_height = model_width.score(height,self.Y_height)\n",
    "        self.R2_gy = model_width.score(gy,self.Y_gy)\n",
    "        \n",
    "    def printError(self):\n",
    "        predictWidth = []\n",
    "        predictHeight = []\n",
    "        predictGy = []\n",
    "        for i ,row in self.X_width.iterrows():\n",
    "            predictWidth.append(self.predictWidth([row[0],row[1],row[2]]))\n",
    "        print('MSE width : %.3f' % mean_squared_error(self.Y_width,predictWidth))\n",
    "        print('R^2 width : %.3f' % self.R2_width)\n",
    "\n",
    "        for i ,row in self.X_height.iterrows():\n",
    "            predictHeight.append(self.predictHeight([row[0],row[1],row[2]]))\n",
    "        print('MSE height : %.3f' % mean_squared_error(self.Y_height,predictHeight))\n",
    "        print('R^2 height : %.3f' % self.R2_height)\n",
    "        \n",
    "        for i ,row in self.X_gy.iterrows():\n",
    "            predictGy.append(self.predictGy([row[0],row[1],row[2]]))\n",
    "        print('MSE gy : %.3f' % mean_squared_error(self.Y_gy,predictGy))\n",
    "        print('R^2 gy : %.3f' % self.R2_gy)\n",
    "#         print('R^2 width : %.3f' % (mod.score(X_train, y_train), mod.score(X_test, y_test)))\n",
    "\n",
    "    \n",
    "    # shape:目標形状[width,height,Gy](*cm)\n",
    "    def optimize(self,shape):\n",
    "        self.shape = [shape[0]/10,shape[1]/10,shape[2]/10]\n",
    "        cons = ({\"type\":\"ineq\",\"fun\":lambda x : x[0]},\n",
    "        {\"type\":\"ineq\",\"fun\":lambda x : 180 - x[0]},\n",
    "        {\"type\":\"ineq\",\"fun\":lambda x : x[1]},\n",
    "        {\"type\":\"ineq\",\"fun\":lambda x : x[0] - x[1]},\n",
    "        {\"type\":\"ineq\",\"fun\":lambda x : 90 - (x[0] - x[1])},\n",
    "        {\"type\":\"ineq\",\"fun\":lambda x : x[2]},\n",
    "        {\"type\":\"ineq\",\"fun\":lambda x : x[1] - x[2]},\n",
    "        {\"type\":\"ineq\",\"fun\":lambda x : 90 - (x[1] - x[2])})\n",
    "\n",
    "        res = minimize(self.costfunc,[0,0,0],method=\"COBYLA\",constraints=cons)\n",
    "        # [costfuncの値,min costfunc を与える x]\n",
    "        return [res.fun,res.x]\n",
    "\n",
    "    def predictHeight(self,x):\n",
    "        # x[0]:p, x[1]:theta\n",
    "        x = [x]\n",
    "        poly = PolynomialFeatures(degree=self.dim)\n",
    "        x = poly.fit_transform(x)\n",
    "        predict_height = np.dot(x,self.height_coef)\n",
    "        return predict_height[0]\n",
    "\n",
    "    def predictWidth(self,x):\n",
    "        x = [x]\n",
    "        poly = PolynomialFeatures(degree=self.dim)\n",
    "        x = poly.fit_transform(x)\n",
    "        predict_width = np.dot(x,self.width_coef)\n",
    "        return predict_width[0]\n",
    "\n",
    "    def predictGy(self,x):\n",
    "        x = [x]\n",
    "        poly = PolynomialFeatures(degree=self.dim)\n",
    "        x = poly.fit_transform(x)\n",
    "        predict_gy = np.dot(x,self.gy_coef)\n",
    "        return predict_gy[0]\n",
    "\n",
    "    def costfunc(self,x):\n",
    "        return ((self.shape[0] - self.predictWidth(x))**2 + (self.shape[1] - self.predictHeight(x))**2 + (self.shape[2] - self.predictGy(x))**2)\n",
    "\n",
    "    def showWidthGraph(self):\n",
    "        x_surf, y_surf = np.meshgrid(np.linspace(0, 125, 100),np.linspace(0, 90, 100))\n",
    "        onlyX = pd.DataFrame({0: x_surf.ravel(), 1: y_surf.ravel()}) #メッシュを作成\n",
    "        predictY = []\n",
    "        for index, row in onlyX.iterrows():\n",
    "            predictY.append(self.predictWidth([row[0],row[1]]))\n",
    "        predictY = np.array(predictY)\n",
    "        fig = plt.figure()\n",
    "        ax = fig.add_subplot(111, projection='3d')\n",
    "        ax.set_xlabel('p')\n",
    "        ax.set_ylabel('theta')\n",
    "        ax.set_zlabel('W')\n",
    "        ax.set_xlim([0, 125])\n",
    "        ax.set_ylim([0, 90])\n",
    "        ax.scatter(self.X_width[\"length\"],self.X_width[\"angle\"],self.Y_width,\n",
    "               marker='.', c =[1.0,1.0,1.0,0.0], edgecolors=[0,0.5,1,0.5], alpha = 0.5, facecolors='none') # Marker Style\n",
    "        surf = ax.plot_surface(x_surf,y_surf,predictY.reshape(x_surf.shape),\n",
    "                           cmap=cm.viridis, alpha=1.0,\n",
    "                           linewidth=0.2, edgecolors='black')\n",
    "        ax.view_init(azim = -150, elev = 30)\n",
    "        # Add a color bar which maps values to colors.\n",
    "        # fig.colorbar(surf, shrink=0.5, aspect=5)\n",
    "        fig.set_size_inches(6, 8)\n",
    "        # show\n",
    "        plt.show()\n",
    "        #Save to svg\n",
    "        fig.savefig(\"image/width.svg\")\n",
    "\n",
    "    def showHeightGraph(self):\n",
    "        x_surf, y_surf = np.meshgrid(np.linspace(0, 125, 100),np.linspace(0, 90, 100))\n",
    "        onlyX = pd.DataFrame({0: x_surf.ravel(), 1: y_surf.ravel()}) #メッシュを作成\n",
    "        predictY = []\n",
    "        for index, row in onlyX.iterrows():\n",
    "            predictY.append(self.predictHeight([row[0],row[1]]))\n",
    "        predictY = np.array(predictY)\n",
    "        fig = plt.figure()\n",
    "        ax = fig.add_subplot(111, projection='3d')\n",
    "        ax.set_xlabel('p')\n",
    "        ax.set_ylabel('theta')\n",
    "        ax.set_zlabel('H')\n",
    "        ax.set_xlim([0, 125])\n",
    "        ax.set_ylim([0, 90])\n",
    "        ax.scatter(self.X_height[\"length\"],self.X_height[\"angle\"],self.Y_height,\n",
    "               marker='.', c =[1.0,1.0,1.0,0.0], edgecolors=[0,0.5,1,0.5], alpha = 0.5, facecolors='none') # Marker Style\n",
    "        surf = ax.plot_surface(x_surf,y_surf,predictY.reshape(x_surf.shape),\n",
    "                           cmap=cm.viridis, alpha=1.0,\n",
    "                           linewidth=0.2, edgecolors='black')\n",
    "        ax.view_init(azim = -150, elev = 30)\n",
    "        # Add a color bar which maps values to colors.\n",
    "        # fig.colorbar(surf, shrink=0.5, aspect=5)\n",
    "        fig.set_size_inches(6, 8)\n",
    "        # show\n",
    "        plt.show()\n",
    "        #Save to svg\n",
    "        fig.savefig('image/height.svg')\n",
    "    \n",
    "    # Transcaliburのカバーエリア(VR空間上で一定の損失で再現できる範囲)の提示関数\n",
    "    # 重いです...\n",
    "    # SEP 分割数：SEP * SEP に分割して最適化する\n",
    "    def showCoverAreaOriginal(self,SEP):\n",
    "        W = []\n",
    "        H = []\n",
    "        SEPARATE = SEP\n",
    "        ERROR_THRESHOLD = 1\n",
    "        w = np.linspace(5,100,SEPARATE)\n",
    "        h = np.linspace(5,100,SEPARATE)\n",
    "        k = 0\n",
    "        for i,j in itertools.product(w,h):\n",
    "            try:\n",
    "                error_value = self.optimize([i,j,j/2])[0]\n",
    "            except:\n",
    "                print(\"error\")\n",
    "            k = k+1\n",
    "            if error_value < ERROR_THRESHOLD :\n",
    "                W.append(i)\n",
    "                H.append(j)\n",
    "            print (\"calculating...\" + str(int(k*100.0/SEPARATE/SEPARATE)) + \"%\" + \"finished\" + str(error_value))\n",
    "        W = np.array(W)\n",
    "        H = np.array(H)\n",
    "        W = W / 2\n",
    "        W = np.append(W,-W)\n",
    "        H = np.append(H,H)\n",
    "        print(W,H)\n",
    "        plt.plot(W,H,\".\")\n",
    "        plt.xlabel(\"Width[cm]\")\n",
    "        plt.ylabel(\"Height[cm]\")\n",
    "        plt.xlim([-50,50])\n",
    "        plt.ylim([0,80])\n",
    "        plt.savefig(\"image/cover_area.svg\")\n",
    "        plt.title(\"Covering area of Transcalibur in VR\")\n",
    "        plt.show()\n",
    "        \n",
    "    def calcAreaError(self,SEP):\n",
    "        self.SEP = SEP\n",
    "        SEPARATE = SEP\n",
    "        self.areaMIN = 5\n",
    "        self.areaMAX = 100\n",
    "        self.Error_Values = np.zeros((SEPARATE,SEPARATE))\n",
    "        k = 0\n",
    "        for i in range(SEPARATE):\n",
    "            w = (self.areaMAX - self.areaMIN) / (SEPARATE-1) * i + self.areaMIN\n",
    "            for j in range(SEPARATE):\n",
    "                h = (self.areaMAX - self.areaMIN) / (SEPARATE-1) * j + self.areaMIN\n",
    "                try:\n",
    "                    error_value = self.optimize([w,h,h/2])[0]\n",
    "                except:\n",
    "                    print(\"error\")\n",
    "                    error_value = 99999\n",
    "                self.Error_Values[i][j] = error_value\n",
    "                k=k+1\n",
    "                print((\"caluculating...\") + str(int(k*100.0/SEPARATE/SEPARATE)) + \"%\" + \"finished\" + str(error_value))\n",
    "        print(\"finish caluculation!\")\n",
    "                \n",
    "    def showCoverArea(self, ERROR_THRESHOLD):\n",
    "        W,H = np.where(self.Error_Values<ERROR_THRESHOLD)\n",
    "        W = W *((self.areaMAX - self.areaMIN)/(self.SEP-1)+self.areaMIN)/2\n",
    "        W = np.append(W,-W)\n",
    "        H = np.append(H,H)*(self.areaMAX - self.areaMIN)/(self.SEP-1)+self.areaMIN\n",
    "        print(W,H)\n",
    "        plt.plot(W,H,\".\")\n",
    "        plt.xlabel(\"Width[cm]\")\n",
    "        plt.ylabel(\"Height[cm]\")\n",
    "        plt.xlim([-50,50])\n",
    "        plt.ylim([0,80])\n",
    "        plt.savefig(\"image/cover_area.svg\")\n",
    "        plt.title(\"Covering area of ShapeSence in VR\")\n",
    "        plt.show()"
   ]
  },
  {
   "cell_type": "code",
   "execution_count": 2,
   "metadata": {
    "collapsed": true
   },
   "outputs": [],
   "source": [
    "# 初期化\n",
    "shapeSence = ShapeSence()"
   ]
  },
  {
   "cell_type": "code",
   "execution_count": 3,
   "metadata": {
    "collapsed": true
   },
   "outputs": [],
   "source": [
    "# データのロード\n",
    "shapeSence.loadData()"
   ]
  },
  {
   "cell_type": "code",
   "execution_count": 4,
   "metadata": {
    "collapsed": true
   },
   "outputs": [],
   "source": [
    "# 回帰の実行\n",
    "shapeSence.regression(2)"
   ]
  },
  {
   "cell_type": "code",
   "execution_count": 5,
   "metadata": {},
   "outputs": [
    {
     "name": "stdout",
     "output_type": "stream",
     "text": [
      "calculating...1%finished9.11757012704\n",
      "calculating...2%finished5.65306304591\n",
      "calculating...3%finished4.95083488216\n",
      "calculating...4%finished5.9355597292\n",
      "calculating...5%finished8.52537725281\n",
      "calculating...6%finished13.332963687\n",
      "calculating...7%finished20.6825139317\n",
      "calculating...8%finished30.7886804485\n",
      "calculating...9%finished43.6803407924\n",
      "calculating...10%finished59.3574949635\n",
      "calculating...11%finished5.5672488087\n",
      "calculating...12%finished2.10274172757\n",
      "calculating...13%finished1.37880919915\n",
      "calculating...14%finished2.07923125178\n",
      "calculating...15%finished4.29911821456\n",
      "calculating...16%finished8.86905960635\n",
      "calculating...17%finished16.1897322959\n",
      "calculating...18%finished26.2958988127\n",
      "calculating...19%finished39.1866029865\n",
      "calculating...20%finished54.8567769493\n",
      "calculating...21%finished4.24532255208\n",
      "calculating...22%finished0.780815470954\n",
      "calculating...23%finished0.0206545792058\n",
      "calculating...24%finished0.261741236017\n",
      "calculating...25%finished2.06949416984\n",
      "calculating...26%finished6.60174701884\n",
      "calculating...27%finished13.909356079\n",
      "calculating...28%finished23.9988603801\n",
      "calculating...29%finished36.8724392504\n",
      "calculating...30%finished52.5308100899\n",
      "calculating...31%finished5.1517913572\n",
      "calculating...32%finished1.68728427607\n",
      "calculating...33%finished0.412733785278\n",
      "calculating...34%finished0.0762755347051\n",
      "calculating...35%finished1.93744528368\n",
      "calculating...36%finished6.46509778621\n",
      "calculating...37%finished13.7683061055\n",
      "calculating...38%finished23.8558030491\n",
      "calculating...39%finished36.7282500031\n",
      "calculating...40%finished52.385899045\n",
      "calculating...41%finished8.28665522404\n",
      "calculating...42%finished4.82214814291\n",
      "calculating...43%finished1.43289917983\n",
      "calculating...44%finished1.16302723838\n",
      "calculating...45%finished3.33436889965\n",
      "calculating...46%finished8.1646461124\n",
      "calculating...47%finished15.6676509698\n",
      "calculating...48%finished25.8636083017\n",
      "calculating...49%finished38.7709567903\n",
      "calculating...50%finished54.4338709628\n",
      "calculating...51%finished13.6499141526\n",
      "calculating...52%finished10.1854070715\n",
      "calculating...53%finished4.61087537031\n",
      "calculating...54%finished4.36943227052\n",
      "calculating...55%finished6.66996154371\n",
      "calculating...56%finished11.5912378694\n",
      "calculating...57%finished19.2369429478\n",
      "calculating...58%finished29.6229728937\n",
      "calculating...59%finished42.719820681\n",
      "calculating...60%finished58.5377874341\n",
      "calculating...61%finished21.2415681429\n",
      "calculating...62%finished17.7770610618\n",
      "calculating...63%finished10.0172466225\n",
      "calculating...64%finished9.78198871903\n",
      "calculating...65%finished12.1699087289\n",
      "calculating...66%finished17.1633108958\n",
      "calculating...67%finished24.8610972817\n",
      "calculating...68%finished35.3017745051\n",
      "calculating...69%finished48.5029188552\n",
      "calculating...70%finished64.4516179863\n",
      "calculating...71%finished31.0616171949\n",
      "calculating...72%finished20.6727440211\n",
      "calculating...73%finished17.6520129364\n",
      "calculating...74%finished17.4167757128\n",
      "calculating...75%finished19.8643450702\n",
      "calculating...76%finished24.918593885\n",
      "calculating...77%finished32.6653461952\n",
      "calculating...78%finished43.1445761244\n",
      "calculating...79%finished56.3763982554\n",
      "calculating...80%finished72.3719344627\n",
      "calculating...81%finished43.1100613087\n",
      "calculating...82%finished30.5359035026\n",
      "calculating...83%finished27.5151752373\n",
      "calculating...84%finished27.2799370546\n",
      "calculating...85%finished29.7669507174\n",
      "calculating...86%finished34.8721155593\n",
      "calculating...87%finished42.6632372075\n",
      "calculating...88%finished53.1794041219\n",
      "calculating...89%finished66.4418273307\n",
      "calculating...90%finished82.4628939198\n",
      "calculating...91%finished57.3869004842\n",
      "calculating...92%finished42.6274618342\n",
      "calculating...93%finished39.6067364158\n",
      "calculating...94%finished39.371493492\n",
      "calculating...95%finished41.8848561241\n",
      "calculating...96%finished47.0328863389\n",
      "calculating...97%finished54.8636979634\n",
      "calculating...98%finished65.414427613\n",
      "calculating...99%finished78.7064716896\n",
      "calculating...100%finished94.752906511\n",
      "[ 13.05555556  13.05555556  13.05555556  18.33333333  18.33333333\n",
      " -13.05555556 -13.05555556 -13.05555556 -18.33333333 -18.33333333] [ 15.55555556  26.11111111  36.66666667  26.11111111  36.66666667\n",
      "  15.55555556  26.11111111  36.66666667  26.11111111  36.66666667]\n"
     ]
    },
    {
     "data": {
      "image/png": "[encoded data removed]",
      "text/plain": [
       "<matplotlib.figure.Figure at 0x24ad381dfd0>"
      ]
     },
     "metadata": {},
     "output_type": "display_data"
    }
   ],
   "source": [
    "shapeSence.showCoverAreaOriginal(10)"
   ]
  },
  {
   "cell_type": "code",
   "execution_count": 6,
   "metadata": {},
   "outputs": [
    {
     "name": "stdout",
     "output_type": "stream",
     "text": [
      "caluculating...1%finished9.11757012704\n",
      "caluculating...2%finished5.65306304591\n",
      "caluculating...3%finished4.95083488216\n",
      "caluculating...4%finished5.9355597292\n",
      "caluculating...5%finished8.52537725281\n",
      "caluculating...6%finished13.332963687\n",
      "caluculating...7%finished20.6825139317\n",
      "caluculating...8%finished30.7886804485\n",
      "caluculating...9%finished43.6803407924\n",
      "caluculating...10%finished59.3574949635\n",
      "caluculating...11%finished5.5672488087\n",
      "caluculating...12%finished2.10274172757\n",
      "caluculating...13%finished1.37880919915\n",
      "caluculating...14%finished2.07923125178\n",
      "caluculating...15%finished4.29911821456\n",
      "caluculating...16%finished8.86905960635\n",
      "caluculating...17%finished16.1897322959\n",
      "caluculating...18%finished26.2958988127\n",
      "caluculating...19%finished39.1866029865\n",
      "caluculating...20%finished54.8567769493\n",
      "caluculating...21%finished4.24532255208\n",
      "caluculating...22%finished0.780815470954\n",
      "caluculating...23%finished0.0206545792058\n",
      "caluculating...24%finished0.261741236017\n",
      "caluculating...25%finished2.06949416984\n",
      "caluculating...26%finished6.60174701884\n",
      "caluculating...27%finished13.909356079\n",
      "caluculating...28%finished23.9988603801\n",
      "caluculating...29%finished36.8724392504\n",
      "caluculating...30%finished52.5308100899\n",
      "caluculating...31%finished5.1517913572\n",
      "caluculating...32%finished1.68728427607\n",
      "caluculating...33%finished0.412733785278\n",
      "caluculating...34%finished0.0762755347051\n",
      "caluculating...35%finished1.93744528368\n",
      "caluculating...36%finished6.46509778621\n",
      "caluculating...37%finished13.7683061055\n",
      "caluculating...38%finished23.8558030491\n",
      "caluculating...39%finished36.7282500031\n",
      "caluculating...40%finished52.385899045\n",
      "caluculating...41%finished8.28665522404\n",
      "caluculating...42%finished4.82214814291\n",
      "caluculating...43%finished1.43289917983\n",
      "caluculating...44%finished1.16302723838\n",
      "caluculating...45%finished3.33436889965\n",
      "caluculating...46%finished8.1646461124\n",
      "caluculating...47%finished15.6676509698\n",
      "caluculating...48%finished25.8636083017\n",
      "caluculating...49%finished38.7709567903\n",
      "caluculating...50%finished54.4338709628\n",
      "caluculating...51%finished13.6499141526\n",
      "caluculating...52%finished10.1854070715\n",
      "caluculating...53%finished4.61087537031\n",
      "caluculating...54%finished4.36943227052\n",
      "caluculating...55%finished6.66996154371\n",
      "caluculating...56%finished11.5912378694\n",
      "caluculating...57%finished19.2369429478\n",
      "caluculating...58%finished29.6229728937\n",
      "caluculating...59%finished42.719820681\n",
      "caluculating...60%finished58.5377874341\n",
      "caluculating...61%finished21.2415681429\n",
      "caluculating...62%finished17.7770610618\n",
      "caluculating...63%finished10.0172466225\n",
      "caluculating...64%finished9.78198871903\n",
      "caluculating...65%finished12.1699087289\n",
      "caluculating...66%finished17.1633108958\n",
      "caluculating...67%finished24.8610972817\n",
      "caluculating...68%finished35.3017745051\n",
      "caluculating...69%finished48.5029188552\n",
      "caluculating...70%finished64.4516179863\n",
      "caluculating...71%finished31.0616171949\n",
      "caluculating...72%finished20.6727440211\n",
      "caluculating...73%finished17.6520129364\n",
      "caluculating...74%finished17.4167757128\n",
      "caluculating...75%finished19.8643450702\n",
      "caluculating...76%finished24.918593885\n",
      "caluculating...77%finished32.6653461952\n",
      "caluculating...78%finished43.1445761244\n",
      "caluculating...79%finished56.3763982554\n",
      "caluculating...80%finished72.3719344627\n",
      "caluculating...81%finished43.1100613087\n",
      "caluculating...82%finished30.5359035026\n",
      "caluculating...83%finished27.5151752373\n",
      "caluculating...84%finished27.2799370546\n",
      "caluculating...85%finished29.7669507174\n",
      "caluculating...86%finished34.8721155593\n",
      "caluculating...87%finished42.6632372075\n",
      "caluculating...88%finished53.1794041219\n",
      "caluculating...89%finished66.4418273307\n",
      "caluculating...90%finished82.4628939198\n",
      "caluculating...91%finished57.3869004842\n",
      "caluculating...92%finished42.6274618342\n",
      "caluculating...93%finished39.6067364158\n",
      "caluculating...94%finished39.371493492\n",
      "caluculating...95%finished41.8848561241\n",
      "caluculating...96%finished47.0328863389\n",
      "caluculating...97%finished54.8636979634\n",
      "caluculating...98%finished65.414427613\n",
      "caluculating...99%finished78.7064716896\n",
      "caluculating...100%finished94.752906511\n",
      "finish caluculation!\n"
     ]
    }
   ],
   "source": [
    "shapeSence.calcAreaError(10)"
   ]
  },
  {
   "cell_type": "code",
   "execution_count": 7,
   "metadata": {},
   "outputs": [
    {
     "name": "stdout",
     "output_type": "stream",
     "text": [
      "[ 15.55555556  15.55555556  15.55555556  23.33333333  23.33333333\n",
      " -15.55555556 -15.55555556 -15.55555556 -23.33333333 -23.33333333] [ 15.55555556  26.11111111  36.66666667  26.11111111  36.66666667\n",
      "  15.55555556  26.11111111  36.66666667  26.11111111  36.66666667]\n"
     ]
    },
    {
     "data": {
      "image/png": "[encoded data removed]",
      "text/plain": [
       "<matplotlib.figure.Figure at 0x24ad81f6160>"
      ]
     },
     "metadata": {},
     "output_type": "display_data"
    }
   ],
   "source": [
    "shapeSence.showCoverArea(1)"
   ]
  },
  {
   "cell_type": "code",
   "execution_count": 128,
   "metadata": {},
   "outputs": [
    {
     "data": {
      "text/plain": [
       "[0.52836058318201107,\n",
       " array([  1.09909030e+02,   1.99090298e+01,  -1.40442015e-18])]"
      ]
     },
     "execution_count": 128,
     "metadata": {},
     "output_type": "execute_result"
    }
   ],
   "source": [
    "shapeSence.optimize([20,30,10]) \n",
    "#最適なp1, p2(mm), theta1, theta2(degree) とその時のErrorを表示"
   ]
  },
  {
   "cell_type": "code",
   "execution_count": 135,
   "metadata": {},
   "outputs": [
    {
     "name": "stdout",
     "output_type": "stream",
     "text": [
      "MSE width : 0.625\n",
      "R^2 width : 0.125\n",
      "MSE height : 0.211\n",
      "R^2 height : -0.382\n",
      "MSE gy : 0.054\n",
      "R^2 gy : -22.485\n"
     ]
    }
   ],
   "source": [
    "shapeSence.printError()"
   ]
  },
  {
   "cell_type": "code",
   "execution_count": 13,
   "metadata": {},
   "outputs": [
    {
     "name": "stdout",
     "output_type": "stream",
     "text": [
      "[[ 1.  0.  0.]\n",
      " [ 0.  0.  0.]\n",
      " [ 0.  0.  0.]]\n",
      "[[ 1 -1  0]\n",
      " [ 0  0  1]\n",
      " [-1  0  0]]\n"
     ]
    }
   ],
   "source": [
    "a = np.zeros((3,3))\n",
    "a[0][0]=1\n",
    "b = np.array([[1,-1,0],[0,0,1],[-1,0,0]])\n",
    "print(a)\n",
    "print(b)"
   ]
  },
  {
   "cell_type": "code",
   "execution_count": 17,
   "metadata": {},
   "outputs": [
    {
     "data": {
      "image/png": "[encoded data removed]",
      "text/plain": [
       "<matplotlib.figure.Figure at 0x254c0942e48>"
      ]
     },
     "metadata": {},
     "output_type": "display_data"
    }
   ],
   "source": [
    "c,d=np.where(a==b)\n",
    "plt.plot(c/2,d/2,\".\")\n",
    "plt.show()"
   ]
  },
  {
   "cell_type": "code",
   "execution_count": 9,
   "metadata": {},
   "outputs": [
    {
     "data": {
      "text/plain": [
       "array([   5.        ,   15.55555556,   26.11111111,   36.66666667,\n",
       "         47.22222222,   57.77777778,   68.33333333,   78.88888889,\n",
       "         89.44444444,  100.        ])"
      ]
     },
     "execution_count": 9,
     "metadata": {},
     "output_type": "execute_result"
    }
   ],
   "source": [
    "np.linspace(5,100,10)"
   ]
  },
  {
   "cell_type": "code",
   "execution_count": 12,
   "metadata": {},
   "outputs": [
    {
     "name": "stdout",
     "output_type": "stream",
     "text": [
      "5.0\n",
      "15.555555555555555\n",
      "26.11111111111111\n",
      "36.666666666666664\n",
      "47.22222222222222\n",
      "57.77777777777778\n",
      "68.33333333333333\n",
      "78.88888888888889\n",
      "89.44444444444444\n",
      "100.0\n"
     ]
    }
   ],
   "source": [
    "for i in range(10):\n",
    "    print((100-5)/9*i+5)"
   ]
  },
  {
   "cell_type": "code",
   "execution_count": null,
   "metadata": {
    "collapsed": true
   },
   "outputs": [],
   "source": []
  }
 ],
 "metadata": {
  "kernelspec": {
   "display_name": "Python 3",
   "language": "python",
   "name": "python3"
  },
  "language_info": {
   "codemirror_mode": {
    "name": "ipython",
    "version": 3
   },
   "file_extension": ".py",
   "mimetype": "text/x-python",
   "name": "python",
   "nbconvert_exporter": "python",
   "pygments_lexer": "ipython3",
   "version": "3.6.3"
  }
 },
 "nbformat": 4,
 "nbformat_minor": 2
}
