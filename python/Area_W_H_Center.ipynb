{
 "cells": [
  {
   "cell_type": "code",
   "execution_count": 1,
   "metadata": {
    "collapsed": true
   },
   "outputs": [],
   "source": [
    "import pandas as pd\n",
    "import math\n",
    "import numpy as np\n",
    "import matplotlib.pyplot as plt\n",
    "import csv"
   ]
  },
  {
   "cell_type": "code",
   "execution_count": 100,
   "metadata": {},
   "outputs": [],
   "source": [
    "#csvを読み込む\n",
    "def csv_to_array(file_name):\n",
    "    csv_input = pd.read_csv(\"Data/length/\"+file_name+\".csv\")\n",
    "    data = np.round(np.array(csv_input.values)*50)*2\n",
    "    data_max_value = 0\n",
    "    for i in range(data.shape[0]):\n",
    "        for j in range(data.shape[1]):\n",
    "            if math.isnan(data[i][j]):\n",
    "                data[i][j] = 0\n",
    "            if data[i][j] > data_max_value:\n",
    "                data_max_value = data[i][j]\n",
    "    #print(data_max_value)\n",
    "    return (data, data_max_value)\n",
    "\n",
    "def make_plot_data(data, data_max_value):\n",
    "    plot_data = np.array([np.zeros((data.shape[1], int(data_max_value))) for i in range(data.shape[0])])\n",
    "    for i in range(plot_data.shape[0]):\n",
    "        for j in range(plot_data.shape[1]):\n",
    "            for l in range(int((plot_data.shape[2] -data[i][j])/2), int((plot_data.shape[2]+data[i][j])/2)):\n",
    "                plot_data[i][j][l] = 1\n",
    "        plot_data[i] = plot_data[i][::-1]\n",
    "    return plot_data\n",
    "\n",
    "def conv_to_RGB(data):\n",
    "    list = [[]for i in range(data.shape[0])]\n",
    "    for i in range(data.shape[0]):\n",
    "        for j in range(data.shape[1]):\n",
    "            if data[i][j] == 1:\n",
    "                list[i].append([0.0,0.0,0.0])\n",
    "            else:\n",
    "                list[i].append([1.0,1.0,1.0])\n",
    "    return list\n",
    "\n",
    "def area(data):\n",
    "    ret = np.zeros(data.shape[0])\n",
    "    for i in range(data.shape[0]):\n",
    "        ret[i] = np.sum(data[i])\n",
    "    return ret\n",
    "\n",
    "def write_area(file_name):\n",
    "    data, data_max_value = csv_to_array(file_name)\n",
    "    data_max_value = 50\n",
    "    plot_data = make_plot_data(data, data_max_value)\n",
    "    area_data = area(plot_data)\n",
    "    f = open(\"Data/area.csv\", \"a\")\n",
    "    csvWriter = csv.writer(f, lineterminator=\"\\n\")\n",
    "    csvWriter.writerow(area_data[:19])\n",
    "    csvWriter.writerow(area_data[19:])\n",
    "    f.close()\n",
    "\n",
    "def max_width(data):\n",
    "    ret = np.zeros(data.shape[0])\n",
    "    for i in range(data.shape[0]):\n",
    "        ret[i] = np.amax(data[i])\n",
    "    return ret\n",
    "    \n",
    "def write_width(file_name):\n",
    "    data, data_max_value = csv_to_array(file_name)\n",
    "    width_data = max_width(data)\n",
    "    f = open(\"Data/max_width.csv\", \"a\")\n",
    "    csvWriter = csv.writer(f, lineterminator=\"\\n\")\n",
    "    csvWriter.writerow(width_data[:19])\n",
    "    csvWriter.writerow(width_data[19:])\n",
    "    f.close()\n",
    "\n",
    "def max_height(data):\n",
    "    ret = np.zeros(data.shape[0])\n",
    "    for i in range(data.shape[0]):\n",
    "        ret[i] = np.amax(np.sum(data[i], axis=0))*4\n",
    "    return ret\n",
    "\n",
    "def write_height(file_name):\n",
    "    data, data_max_value = csv_to_array(file_name)\n",
    "    data = make_plot_data(data, data_max_value)\n",
    "    height_data = max_height(data)\n",
    "    f = open(\"Data/max_height.csv\", \"a\")\n",
    "    csvWriter = csv.writer(f, lineterminator=\"\\n\")\n",
    "    csvWriter.writerow(height_data[:19])\n",
    "    csvWriter.writerow(height_data[19:])\n",
    "    f.close()\n",
    "    \n",
    "def center(data):\n",
    "    ret = np.zeros(data.shape[0])\n",
    "    for i in range(data.shape[0]):\n",
    "        w = np.diag(np.array([(2+4*i) for i in range(data.shape[1])]))\n",
    "        ret[i] = np.sum(np.dot(w, data[i][::-1]))/np.sum(data[i])\n",
    "    return ret\n",
    "\n",
    "def write_center(file_name):\n",
    "    data, data_max_value = csv_to_array(file_name)\n",
    "    data = make_plot_data(data, data_max_value)\n",
    "    center_data = center(data)\n",
    "    f = open(\"Data/center.csv\", \"a\")\n",
    "    csvWriter = csv.writer(f, lineterminator=\"\\n\")\n",
    "    csvWriter.writerow(center_data[:19])\n",
    "    csvWriter.writerow(center_data[19:])\n",
    "    f.close()"
   ]
  },
  {
   "cell_type": "code",
   "execution_count": 101,
   "metadata": {},
   "outputs": [],
   "source": [
    "write_center(\"answer\")\n",
    "write_center(\"kameda\")\n",
    "write_center(\"yamamoto\")\n",
    "write_center(\"yoshino\")\n",
    "write_center(\"kobatake\")\n",
    "write_center(\"ichimura\")\n",
    "write_center(\"morita\")\n",
    "write_center(\"shimoyama\")\n",
    "write_center(\"matsunaga\")\n",
    "write_center(\"michizono\")\n",
    "write_center(\"nakagawa\")"
   ]
  },
  {
   "cell_type": "code",
   "execution_count": 99,
   "metadata": {},
   "outputs": [
    {
     "name": "stdout",
     "output_type": "stream",
     "text": [
      "[[1 1 1]\n",
      " [0 1 0]]\n",
      "[[2 0]\n",
      " [0 6]]\n",
      "[[2 2 2]\n",
      " [0 6 0]]\n",
      "3.0\n"
     ]
    }
   ],
   "source": [
    "a = np.array([[1,1,1],[0,1,0]])\n",
    "print(a)\n",
    "b = np.diag(np.array([(2+4*i) for i in range(a.shape[0])]))\n",
    "print(b)\n",
    "print(np.dot(b,a))\n",
    "print(np.sum(np.dot(b,a))/np.sum(a))"
   ]
  },
  {
   "cell_type": "code",
   "execution_count": null,
   "metadata": {
    "collapsed": true
   },
   "outputs": [],
   "source": []
  }
 ],
 "metadata": {
  "kernelspec": {
   "display_name": "Python 3",
   "language": "python",
   "name": "python3"
  },
  "language_info": {
   "codemirror_mode": {
    "name": "ipython",
    "version": 3
   },
   "file_extension": ".py",
   "mimetype": "text/x-python",
   "name": "python",
   "nbconvert_exporter": "python",
   "pygments_lexer": "ipython3",
   "version": "3.6.3"
  }
 },
 "nbformat": 4,
 "nbformat_minor": 2
}
